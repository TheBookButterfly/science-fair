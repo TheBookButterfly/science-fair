{
  "nbformat": 4,
  "nbformat_minor": 0,
  "metadata": {
    "colab": {
      "name": "GenerateMolecules v2.ipynb",
      "provenance": [],
      "collapsed_sections": [],
      "authorship_tag": "ABX9TyO/ljo5zcRPSbcch52sAoVr",
      "include_colab_link": true
    },
    "kernelspec": {
      "name": "python3",
      "display_name": "Python 3"
    },
    "language_info": {
      "name": "python"
    },
    "accelerator": "GPU"
  },
  "cells": [
    {
      "cell_type": "markdown",
      "metadata": {
        "id": "view-in-github",
        "colab_type": "text"
      },
      "source": [
        "<a href=\"https://colab.research.google.com/github/TheBookButterfly/science-fair/blob/main/GenerateMolecules_v2.ipynb\" target=\"_parent\"><img src=\"https://colab.research.google.com/assets/colab-badge.svg\" alt=\"Open In Colab\"/></a>"
      ]
    },
    {
      "cell_type": "code",
      "metadata": {
        "colab": {
          "base_uri": "https://localhost:8080/"
        },
        "id": "codX5Ylsd58h",
        "outputId": "403914df-c353-464c-cd6c-9ad5c916b35a"
      },
      "source": [
        "!curl -Lo conda_installer.py https://raw.githubusercontent.com/deepchem/deepchem/master/scripts/colab_install.py"
      ],
      "execution_count": 1,
      "outputs": [
        {
          "output_type": "stream",
          "name": "stdout",
          "text": [
            "  % Total    % Received % Xferd  Average Speed   Time    Time     Time  Current\n",
            "                                 Dload  Upload   Total   Spent    Left  Speed\n",
            "100  3457  100  3457    0     0  17819      0 --:--:-- --:--:-- --:--:-- 17819\n"
          ]
        }
      ]
    },
    {
      "cell_type": "code",
      "metadata": {
        "colab": {
          "base_uri": "https://localhost:8080/"
        },
        "id": "67g_vzdEzG-w",
        "outputId": "8900f74a-7b12-4025-f7b4-56bdeaaa6f2d"
      },
      "source": [
        "import conda_installer\n",
        "conda_installer.install()\n",
        "!/root/miniconda/bin/conda info -e"
      ],
      "execution_count": 2,
      "outputs": [
        {
          "output_type": "stream",
          "name": "stderr",
          "text": [
            "add /root/miniconda/lib/python3.7/site-packages to PYTHONPATH\n",
            "python version: 3.7.13\n",
            "fetching installer from https://repo.continuum.io/miniconda/Miniconda3-latest-Linux-x86_64.sh\n",
            "done\n",
            "installing miniconda to /root/miniconda\n",
            "done\n",
            "installing openmm, pdbfixer\n",
            "added conda-forge to channels\n",
            "done\n",
            "conda packages installation finished!\n"
          ]
        },
        {
          "output_type": "stream",
          "name": "stdout",
          "text": [
            "# conda environments:\n",
            "#\n",
            "base                  *  /root/miniconda\n",
            "\n"
          ]
        }
      ]
    },
    {
      "cell_type": "code",
      "source": [
        "!pip install --pre deepchem"
      ],
      "metadata": {
        "colab": {
          "base_uri": "https://localhost:8080/"
        },
        "id": "O2Q-oo1DvLe_",
        "outputId": "6effcc80-c8f9-414a-a24a-cc9b1a9c2e38"
      },
      "execution_count": 3,
      "outputs": [
        {
          "output_type": "stream",
          "name": "stdout",
          "text": [
            "Collecting deepchem\n",
            "  Downloading deepchem-2.6.1-py3-none-any.whl (608 kB)\n",
            "\u001b[?25l\r\u001b[K     |▌                               | 10 kB 29.1 MB/s eta 0:00:01\r\u001b[K     |█                               | 20 kB 20.3 MB/s eta 0:00:01\r\u001b[K     |█▋                              | 30 kB 15.7 MB/s eta 0:00:01\r\u001b[K     |██▏                             | 40 kB 13.9 MB/s eta 0:00:01\r\u001b[K     |██▊                             | 51 kB 6.7 MB/s eta 0:00:01\r\u001b[K     |███▎                            | 61 kB 7.9 MB/s eta 0:00:01\r\u001b[K     |███▊                            | 71 kB 8.7 MB/s eta 0:00:01\r\u001b[K     |████▎                           | 81 kB 8.6 MB/s eta 0:00:01\r\u001b[K     |████▉                           | 92 kB 9.5 MB/s eta 0:00:01\r\u001b[K     |█████▍                          | 102 kB 8.0 MB/s eta 0:00:01\r\u001b[K     |██████                          | 112 kB 8.0 MB/s eta 0:00:01\r\u001b[K     |██████▌                         | 122 kB 8.0 MB/s eta 0:00:01\r\u001b[K     |███████                         | 133 kB 8.0 MB/s eta 0:00:01\r\u001b[K     |███████▌                        | 143 kB 8.0 MB/s eta 0:00:01\r\u001b[K     |████████                        | 153 kB 8.0 MB/s eta 0:00:01\r\u001b[K     |████████▋                       | 163 kB 8.0 MB/s eta 0:00:01\r\u001b[K     |█████████▏                      | 174 kB 8.0 MB/s eta 0:00:01\r\u001b[K     |█████████▊                      | 184 kB 8.0 MB/s eta 0:00:01\r\u001b[K     |██████████▎                     | 194 kB 8.0 MB/s eta 0:00:01\r\u001b[K     |██████████▊                     | 204 kB 8.0 MB/s eta 0:00:01\r\u001b[K     |███████████▎                    | 215 kB 8.0 MB/s eta 0:00:01\r\u001b[K     |███████████▉                    | 225 kB 8.0 MB/s eta 0:00:01\r\u001b[K     |████████████▍                   | 235 kB 8.0 MB/s eta 0:00:01\r\u001b[K     |█████████████                   | 245 kB 8.0 MB/s eta 0:00:01\r\u001b[K     |█████████████▌                  | 256 kB 8.0 MB/s eta 0:00:01\r\u001b[K     |██████████████                  | 266 kB 8.0 MB/s eta 0:00:01\r\u001b[K     |██████████████▌                 | 276 kB 8.0 MB/s eta 0:00:01\r\u001b[K     |███████████████                 | 286 kB 8.0 MB/s eta 0:00:01\r\u001b[K     |███████████████▋                | 296 kB 8.0 MB/s eta 0:00:01\r\u001b[K     |████████████████▏               | 307 kB 8.0 MB/s eta 0:00:01\r\u001b[K     |████████████████▊               | 317 kB 8.0 MB/s eta 0:00:01\r\u001b[K     |█████████████████▎              | 327 kB 8.0 MB/s eta 0:00:01\r\u001b[K     |█████████████████▊              | 337 kB 8.0 MB/s eta 0:00:01\r\u001b[K     |██████████████████▎             | 348 kB 8.0 MB/s eta 0:00:01\r\u001b[K     |██████████████████▉             | 358 kB 8.0 MB/s eta 0:00:01\r\u001b[K     |███████████████████▍            | 368 kB 8.0 MB/s eta 0:00:01\r\u001b[K     |████████████████████            | 378 kB 8.0 MB/s eta 0:00:01\r\u001b[K     |████████████████████▌           | 389 kB 8.0 MB/s eta 0:00:01\r\u001b[K     |█████████████████████           | 399 kB 8.0 MB/s eta 0:00:01\r\u001b[K     |█████████████████████▌          | 409 kB 8.0 MB/s eta 0:00:01\r\u001b[K     |██████████████████████          | 419 kB 8.0 MB/s eta 0:00:01\r\u001b[K     |██████████████████████▋         | 430 kB 8.0 MB/s eta 0:00:01\r\u001b[K     |███████████████████████▏        | 440 kB 8.0 MB/s eta 0:00:01\r\u001b[K     |███████████████████████▊        | 450 kB 8.0 MB/s eta 0:00:01\r\u001b[K     |████████████████████████▎       | 460 kB 8.0 MB/s eta 0:00:01\r\u001b[K     |████████████████████████▉       | 471 kB 8.0 MB/s eta 0:00:01\r\u001b[K     |█████████████████████████▎      | 481 kB 8.0 MB/s eta 0:00:01\r\u001b[K     |█████████████████████████▉      | 491 kB 8.0 MB/s eta 0:00:01\r\u001b[K     |██████████████████████████▍     | 501 kB 8.0 MB/s eta 0:00:01\r\u001b[K     |███████████████████████████     | 512 kB 8.0 MB/s eta 0:00:01\r\u001b[K     |███████████████████████████▌    | 522 kB 8.0 MB/s eta 0:00:01\r\u001b[K     |████████████████████████████    | 532 kB 8.0 MB/s eta 0:00:01\r\u001b[K     |████████████████████████████▌   | 542 kB 8.0 MB/s eta 0:00:01\r\u001b[K     |█████████████████████████████   | 552 kB 8.0 MB/s eta 0:00:01\r\u001b[K     |█████████████████████████████▋  | 563 kB 8.0 MB/s eta 0:00:01\r\u001b[K     |██████████████████████████████▏ | 573 kB 8.0 MB/s eta 0:00:01\r\u001b[K     |██████████████████████████████▊ | 583 kB 8.0 MB/s eta 0:00:01\r\u001b[K     |███████████████████████████████▎| 593 kB 8.0 MB/s eta 0:00:01\r\u001b[K     |███████████████████████████████▉| 604 kB 8.0 MB/s eta 0:00:01\r\u001b[K     |████████████████████████████████| 608 kB 8.0 MB/s \n",
            "\u001b[?25hRequirement already satisfied: scipy in /usr/local/lib/python3.7/dist-packages (from deepchem) (1.4.1)\n",
            "Requirement already satisfied: joblib in /usr/local/lib/python3.7/dist-packages (from deepchem) (1.1.0)\n",
            "Requirement already satisfied: numpy>=1.21 in /usr/local/lib/python3.7/dist-packages (from deepchem) (1.21.6)\n",
            "Requirement already satisfied: pandas in /usr/local/lib/python3.7/dist-packages (from deepchem) (1.3.5)\n",
            "Collecting rdkit-pypi\n",
            "  Downloading rdkit_pypi-2022.3.1.1-cp37-cp37m-manylinux_2_17_x86_64.manylinux2014_x86_64.whl (22.5 MB)\n",
            "\u001b[K     |████████████████████████████████| 22.5 MB 1.1 MB/s \n",
            "\u001b[?25hRequirement already satisfied: scikit-learn in /usr/local/lib/python3.7/dist-packages (from deepchem) (1.0.2)\n",
            "Requirement already satisfied: pytz>=2017.3 in /usr/local/lib/python3.7/dist-packages (from pandas->deepchem) (2022.1)\n",
            "Requirement already satisfied: python-dateutil>=2.7.3 in /usr/local/lib/python3.7/dist-packages (from pandas->deepchem) (2.8.2)\n",
            "Requirement already satisfied: six>=1.5 in /usr/local/lib/python3.7/dist-packages (from python-dateutil>=2.7.3->pandas->deepchem) (1.15.0)\n",
            "Requirement already satisfied: Pillow in /usr/local/lib/python3.7/dist-packages (from rdkit-pypi->deepchem) (7.1.2)\n",
            "Requirement already satisfied: threadpoolctl>=2.0.0 in /usr/local/lib/python3.7/dist-packages (from scikit-learn->deepchem) (3.1.0)\n",
            "Installing collected packages: rdkit-pypi, deepchem\n",
            "Successfully installed deepchem-2.6.1 rdkit-pypi-2022.3.1.1\n"
          ]
        }
      ]
    },
    {
      "cell_type": "code",
      "execution_count": 4,
      "metadata": {
        "id": "qiOTHbU_pkXo",
        "colab": {
          "base_uri": "https://localhost:8080/"
        },
        "outputId": "865e878b-fe21-4df1-a33c-3a87aaa5136a"
      },
      "outputs": [
        {
          "output_type": "stream",
          "name": "stdout",
          "text": [
            "Mounted at /content/gdrive\n"
          ]
        }
      ],
      "source": [
        "from google.colab import drive\n",
        "drive.mount('/content/gdrive');"
      ]
    },
    {
      "cell_type": "markdown",
      "source": [
        "# New Section"
      ],
      "metadata": {
        "id": "nhB3A8wm8tSL"
      }
    },
    {
      "cell_type": "code",
      "metadata": {
        "id": "dKY1yHoZ1Xa5",
        "colab": {
          "base_uri": "https://localhost:8080/",
          "height": 35
        },
        "outputId": "63a888bf-48a2-4c70-f34f-b0c33b2d2ddc"
      },
      "source": [
        "import deepchem as dc\n",
        "dc.__version__"
      ],
      "execution_count": 5,
      "outputs": [
        {
          "output_type": "execute_result",
          "data": {
            "text/plain": [
              "'2.6.1'"
            ],
            "application/vnd.google.colaboratory.intrinsic+json": {
              "type": "string"
            }
          },
          "metadata": {},
          "execution_count": 5
        }
      ]
    },
    {
      "cell_type": "code",
      "source": [
        "tasks, datasets, transformers = dc.molnet.load_muv()\n",
        "train_dataset, valid_dataset, test_dataset = datasets\n",
        "train_smiles = train_dataset.ids\n",
        "\n",
        "# Find the set of tokens that can appear, and the maximum length of\n",
        "# the SMILES strings we are working with.\n",
        "\n",
        "tokens = set()\n",
        "for s in train_smiles:\n",
        "  tokens = tokens.union(set(s))\n",
        "tokens = sorted(list(tokens))\n",
        "max_length = max(len(s) for s in train_smiles)\n",
        "\n",
        "# Build the model.\n",
        "\n",
        "from deepchem.models.optimizers import ExponentialDecay\n",
        "from deepchem.models.seqtoseq import AspuruGuzikAutoEncoder\n",
        "batch_size = 100\n",
        "batches_per_epoch = len(train_smiles)/batch_size\n",
        "learning_rate = ExponentialDecay(0.001, 0.95, batches_per_epoch)\n",
        "model = AspuruGuzikAutoEncoder(tokens, max_length, model_dir='/gdrive/MyDrive/vae1', batch_size=batch_size, learning_rate=learning_rate)\n",
        "\n",
        "\n",
        "# Train the model.\n",
        "\n",
        "def generate_sequences(epochs):\n",
        "  for i in range(epochs):\n",
        "    for s in train_smiles:\n",
        "      yield (s, s)\n"
      ],
      "metadata": {
        "id": "OHJ5cebEv9LU"
      },
      "execution_count": null,
      "outputs": []
    },
    {
      "cell_type": "code",
      "source": [
        "model.fit_sequences(generate_sequences(50))\n"
      ],
      "metadata": {
        "id": "ro3uOZgQxl1h"
      },
      "execution_count": null,
      "outputs": []
    },
    {
      "cell_type": "code",
      "source": [
        "\n",
        "# Generate some new molecules.\n",
        "\n",
        "import numpy as np\n",
        "from rdkit import Chem\n",
        "predictions = model.predict_from_embeddings(np.random.normal(size=(100000,196)))\n",
        "molecules = []\n",
        "for p in predictions:\n",
        "  smiles = ''.join(p)\n",
        "  #print (smiles)\n",
        "  if Chem.MolFromSmiles(smiles) is not None:\n",
        "    molecules.append(smiles)\n",
        "\n",
        "print()\n",
        "print('Generated molecules:')\n",
        "for m in molecules:\n",
        "   print(m)"
      ],
      "metadata": {
        "id": "CS3QzECvyFh3"
      },
      "execution_count": null,
      "outputs": []
    },
    {
      "cell_type": "code",
      "source": [
        "predictions = model.predict_from_embeddings(np.random.normal(size=(100000,196)))\n",
        "molecules = []\n",
        "for p in predictions:\n",
        "  smiles = ''.join(p)\n",
        "  #print (smiles)\n",
        "  if Chem.MolFromSmiles(smiles) is not None:\n",
        "    molecules.append(smiles)\n",
        "\n",
        "print()\n",
        "print('Generated molecules 2:')\n",
        "for m in molecules:\n",
        "   print(m)"
      ],
      "metadata": {
        "id": "maWI7pDgzPwU"
      },
      "execution_count": null,
      "outputs": []
    },
    {
      "cell_type": "code",
      "source": [
        "predictions = model.predict_from_embeddings(np.random.normal(size=(100000,196)))\n",
        "molecules = []\n",
        "for p in predictions:\n",
        "  smiles = ''.join(p)\n",
        "  #print (smiles)\n",
        "  if Chem.MolFromSmiles(smiles) is not None:\n",
        "    molecules.append(smiles)\n",
        "\n",
        "print()\n",
        "print('Generated molecules 2:')\n",
        "for m in molecules:\n",
        "   print(m)"
      ],
      "metadata": {
        "id": "O6aJLaWGQg_O"
      },
      "execution_count": null,
      "outputs": []
    }
  ]
}